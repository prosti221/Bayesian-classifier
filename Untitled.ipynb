{
 "cells": [
  {
   "cell_type": "code",
   "execution_count": 69,
   "id": "7737a9fd",
   "metadata": {},
   "outputs": [],
   "source": [
    "#### import numpy as np\n",
    "import cv2 as cv\n",
    "import numpy as np\n",
    "import scipy as sp\n",
    "\n",
    "class bayesianModel():\n",
    "    def __init__(self):\n",
    "        self.mean_vecs = []     # Mean values for each class\n",
    "        self.cov_mats = []      # Standard deviation for each class\n",
    "        self.c_priors = 0   # Class prior probability\n",
    "        self.class_num = 0  # Number of classes\n",
    "        self.accuracy = 0   # Accuracy from last training\n",
    "        \n",
    "        #Input is in the shape of (W, H, features)\n",
    "        self.x = None       # Last training input\n",
    "        self.y = None       # Last training true values\n",
    "\n",
    "    # Gaussian distribution P(X | Y) * P(Y)\n",
    "    def gauss(self, X, mean_vec, cov_mat, prior):\n",
    "        k = X.shape[0]; m = np.matrix(X-mean_vec)\n",
    "        #term1 = 1/((2*np.pi)**0.5 * np.linalg.det(cov_mat)**0.5)\n",
    "        #term2 = np.e**((-0.5*m@np.linalg.inv(cov_mat)@m.T).item())\n",
    "        return 1/((2*np.pi)**0.5 * np.linalg.det(cov_mat)**0.5) * \\\n",
    "               np.e**((-0.5*m@np.linalg.inv(cov_mat)@m.T).item())\n",
    "        \n",
    "    def softmax(self, vec):\n",
    "        return np.e**vec / sum(np.e**vec)\n",
    "\n",
    "    # Predict for each pixel\n",
    "    def predict(self, x):\n",
    "        preds = np.zeros(x.shape).astype(int)\n",
    "        for i in range(x.shape[0]):\n",
    "            for j in range(x.shape[1]):\n",
    "                norm_vals = ([self.gauss(x[i, j], self.means[c], self.stds[c], self.c_priors[c]) for c in range(self.class_num)])\n",
    "                preds[i, j] = np.argmax(norm_vals)\n",
    "        self.accuracy = self.get_accuracy(preds, self.y)\n",
    "        return preds\n",
    "\n",
    "    def get_accuracy(self, y_pred, y):\n",
    "        return np.mean(y_pred == y)\n",
    "\n",
    "    # Train the classifier\n",
    "    def fit(self, x, y):\n",
    "        self.x = x; self.y = y\n",
    "        self.class_num = len(np.unique(y))\n",
    "        #Mean-value vector for each feature f calcualted for each class c\n",
    "        self.mean_vecs = [np.mean(x[y==i], axis=2) for i in range(self.class_num)]\n",
    "        #Covariance matrix from all features f calculated for each class c\n",
    "        self.cov_mats = [np.cov(x[y==i], rowvar=False) for i in range(self.class_num)]\n",
    "        self.c_priors = np.array([y[y==i].shape[0] for i in range(self.class_num)]) / (y.shape[0] * y.shape[1])"
   ]
  },
  {
   "cell_type": "code",
   "execution_count": 70,
   "id": "9356b737",
   "metadata": {},
   "outputs": [],
   "source": [
    "## import matplotlib.pyplot as plt\n",
    "import cv2 as cv\n",
    "import matplotlib.pyplot as plt\n",
    "\n",
    "model = bayesianModel()\n",
    "#model.train()\n",
    "#preds = model.predict()"
   ]
  },
  {
   "cell_type": "code",
   "execution_count": 1,
   "id": "7f407d6c",
   "metadata": {},
   "outputs": [
    {
     "name": "stdout",
     "output_type": "stream",
     "text": [
      "(188, 235, 3)\n"
     ]
    },
    {
     "ename": "IndexError",
     "evalue": "index 250 is out of bounds for axis 0 with size 188",
     "output_type": "error",
     "traceback": [
      "\u001b[0;31m---------------------------------------------------------------------------\u001b[0m",
      "\u001b[0;31mIndexError\u001b[0m                                Traceback (most recent call last)",
      "\u001b[0;32m/var/folders/xf/_hbrqpw94pl_bmk548fl4jvm0000gn/T/ipykernel_49194/2593770777.py\u001b[0m in \u001b[0;36m<module>\u001b[0;34m\u001b[0m\n\u001b[1;32m     20\u001b[0m            \u001b[0mnp\u001b[0m\u001b[0;34m.\u001b[0m\u001b[0me\u001b[0m\u001b[0;34m**\u001b[0m\u001b[0;34m(\u001b[0m\u001b[0;34m(\u001b[0m\u001b[0;34m-\u001b[0m\u001b[0;36m0.5\u001b[0m\u001b[0;34m*\u001b[0m\u001b[0mm\u001b[0m\u001b[0;34m@\u001b[0m\u001b[0mnp\u001b[0m\u001b[0;34m.\u001b[0m\u001b[0mlinalg\u001b[0m\u001b[0;34m.\u001b[0m\u001b[0minv\u001b[0m\u001b[0;34m(\u001b[0m\u001b[0mcov_mat\u001b[0m\u001b[0;34m)\u001b[0m\u001b[0;34m@\u001b[0m\u001b[0mm\u001b[0m\u001b[0;34m.\u001b[0m\u001b[0mT\u001b[0m\u001b[0;34m)\u001b[0m\u001b[0;34m.\u001b[0m\u001b[0mitem\u001b[0m\u001b[0;34m(\u001b[0m\u001b[0;34m)\u001b[0m\u001b[0;34m)\u001b[0m\u001b[0;34m\u001b[0m\u001b[0;34m\u001b[0m\u001b[0m\n\u001b[1;32m     21\u001b[0m \u001b[0;34m\u001b[0m\u001b[0m\n\u001b[0;32m---> 22\u001b[0;31m \u001b[0mval\u001b[0m \u001b[0;34m=\u001b[0m \u001b[0mgauss\u001b[0m\u001b[0;34m(\u001b[0m\u001b[0mimg\u001b[0m\u001b[0;34m[\u001b[0m\u001b[0;36m250\u001b[0m\u001b[0;34m,\u001b[0m \u001b[0;36m250\u001b[0m\u001b[0;34m]\u001b[0m\u001b[0;34m,\u001b[0m \u001b[0mmean\u001b[0m\u001b[0;34m,\u001b[0m \u001b[0mcov\u001b[0m\u001b[0;34m,\u001b[0m \u001b[0;36m0\u001b[0m\u001b[0;34m)\u001b[0m\u001b[0;34m\u001b[0m\u001b[0;34m\u001b[0m\u001b[0m\n\u001b[0m\u001b[1;32m     23\u001b[0m \u001b[0;34m\u001b[0m\u001b[0m\n\u001b[1;32m     24\u001b[0m \u001b[0mprint\u001b[0m\u001b[0;34m(\u001b[0m\u001b[0mval\u001b[0m\u001b[0;34m)\u001b[0m\u001b[0;34m\u001b[0m\u001b[0;34m\u001b[0m\u001b[0m\n",
      "\u001b[0;31mIndexError\u001b[0m: index 250 is out of bounds for axis 0 with size 188"
     ]
    }
   ],
   "source": [
    "import numpy as np\n",
    "import scipy as sp\n",
    "import cv2 as cv\n",
    "\n",
    "img = cv.imread('test.jpg')\n",
    "\n",
    "cov_im = img.reshape(-1, 3)\n",
    "\n",
    "cov = np.cov(cov_im, rowvar=False)\n",
    "mean = np.mean(img, axis=(0, 1))\n",
    "print(img.shape)\n",
    "#print(mean)\n",
    "#print(cov.shape)\n",
    "\n",
    "def gauss(X, mean_vec, cov_mat, prior):\n",
    "    k = X.shape[0]; m = np.matrix(X-mean_vec)\n",
    "    #term1 = 1/(2*np.pi)**0.5 * np.linalg.det(cov_mat)**0.5\n",
    "    #term2 = np.e**((-0.5*m@np.linalg.inv(cov_mat)@m.T).item())\n",
    "    return 1/((2*np.pi)**0.5 * np.linalg.det(cov_mat)**0.5) * \\\n",
    "           np.e**((-0.5*m@np.linalg.inv(cov_mat)@m.T).item())\n",
    "\n",
    "val = gauss(img[250, 250], mean, cov, 0)\n",
    "\n",
    "print(val)\n",
    "\n"
   ]
  }
 ],
 "metadata": {
  "kernelspec": {
   "display_name": "Python 3 (ipykernel)",
   "language": "python",
   "name": "python3"
  },
  "language_info": {
   "codemirror_mode": {
    "name": "ipython",
    "version": 3
   },
   "file_extension": ".py",
   "mimetype": "text/x-python",
   "name": "python",
   "nbconvert_exporter": "python",
   "pygments_lexer": "ipython3",
   "version": "3.8.11"
  }
 },
 "nbformat": 4,
 "nbformat_minor": 5
}
